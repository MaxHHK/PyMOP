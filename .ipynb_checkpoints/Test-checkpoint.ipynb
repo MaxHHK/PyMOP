{
 "cells": [
  {
   "cell_type": "code",
   "execution_count": 1,
   "id": "566643b1-f63a-4e8a-b06a-2263e6d90b2e",
   "metadata": {},
   "outputs": [],
   "source": [
    "from Algorithms import algorithm\n",
    "from Problems import problem"
   ]
  },
  {
   "cell_type": "code",
   "execution_count": 2,
   "id": "ca50a7c7-e734-4d8e-88b7-a7b4f0faa704",
   "metadata": {},
   "outputs": [
    {
     "ename": "TypeError",
     "evalue": "__init__() takes 1 positional argument but 3 were given",
     "output_type": "error",
     "traceback": [
      "\u001b[0;31m---------------------------------------------------------------------------\u001b[0m",
      "\u001b[0;31mTypeError\u001b[0m                                 Traceback (most recent call last)",
      "Cell \u001b[0;32mIn[2], line 1\u001b[0m\n\u001b[0;32m----> 1\u001b[0m algorithm \u001b[38;5;241m=\u001b[39m \u001b[43malgorithm\u001b[49m\u001b[38;5;241;43m.\u001b[39;49m\u001b[43mAlgorithm\u001b[49m\u001b[43m(\u001b[49m\u001b[38;5;124;43m'\u001b[39;49m\u001b[38;5;124;43msave_times\u001b[39;49m\u001b[38;5;124;43m'\u001b[39;49m\u001b[43m,\u001b[49m\u001b[43m \u001b[49m\u001b[38;5;241;43m10\u001b[39;49m\u001b[43m)\u001b[49m\n",
      "\u001b[0;31mTypeError\u001b[0m: __init__() takes 1 positional argument but 3 were given"
     ]
    }
   ],
   "source": [
    "algorithm = algorithm.Algorithm(save_times=10)"
   ]
  },
  {
   "cell_type": "code",
   "execution_count": null,
   "id": "721ad123-f0b9-43a9-bd54-16df11d7046e",
   "metadata": {},
   "outputs": [],
   "source": []
  }
 ],
 "metadata": {
  "kernelspec": {
   "display_name": "Python 3 (ipykernel)",
   "language": "python",
   "name": "python3"
  },
  "language_info": {
   "codemirror_mode": {
    "name": "ipython",
    "version": 3
   },
   "file_extension": ".py",
   "mimetype": "text/x-python",
   "name": "python",
   "nbconvert_exporter": "python",
   "pygments_lexer": "ipython3",
   "version": "3.8.0"
  }
 },
 "nbformat": 4,
 "nbformat_minor": 5
}
